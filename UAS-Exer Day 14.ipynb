{
 "cells": [
  {
   "cell_type": "code",
   "execution_count": 3,
   "metadata": {},
   "outputs": [],
   "source": [
    "//Load Library\n",
    "%classpath add jar libs/*"
   ]
  },
  {
   "cell_type": "code",
   "execution_count": 4,
   "metadata": {},
   "outputs": [
    {
     "name": "stdout",
     "output_type": "stream",
     "text": [
      "        Structure of 12181609.csv         \n",
      " Index  |  Column Name   |  Column Type  |\n",
      "------------------------------------------\n",
      "     0  |           _id  |      INTEGER  |\n",
      "     1  |           idx  |      INTEGER  |\n",
      "     2  |        series  |       STRING  |\n",
      "     3  |  kode_wilayah  |      INTEGER  |\n",
      "     4  |       wilayah  |       STRING  |\n",
      "     5  |         tahun  |      INTEGER  |\n",
      "     6  |      triwulan  |       STRING  |\n",
      "     7  |         bulan  |       STRING  |\n",
      "     8  |       tanggal  |       STRING  |\n",
      "     9  |         nilai  |      INTEGER  |\n",
      "    10  |        target  |       STRING  |\n",
      "                                                                                     12181609.csv                                                                                      \n",
      " _id  |  idx  |                          series                          |  kode_wilayah  |         wilayah         |  tahun  |  triwulan  |  bulan  |  tanggal  |  nilai  |  target  |\n",
      "---------------------------------------------------------------------------------------------------------------------------------------------------------------------------------------\n",
      " 421  |  420  |  Jumlah Korban yang Meninggal Karena Perkelahian Massal  |          7504  |           BONE BOLANGO  |   2006  |            |         |           |         |          |\n",
      " 422  |  421  |  Jumlah Korban yang Meninggal Karena Perkelahian Massal  |          7571  |         KOTA GORONTALO  |   2006  |            |         |           |         |          |\n",
      " 423  |  422  |  Jumlah Korban yang Meninggal Karena Perkelahian Massal  |          8101  |  MALUKU TENGGARA BARAT  |   2006  |            |         |           |      1  |          |\n",
      " 424  |  423  |  Jumlah Korban yang Meninggal Karena Perkelahian Massal  |          8102  |        MALUKU TENGGARA  |   2006  |            |         |           |      2  |          |\n",
      " 425  |  424  |  Jumlah Korban yang Meninggal Karena Perkelahian Massal  |          8103  |          MALUKU TENGAH  |   2006  |            |         |           |      6  |          |\n",
      " 426  |  425  |  Jumlah Korban yang Meninggal Karena Perkelahian Massal  |          8104  |                   BURU  |   2006  |            |         |           |      1  |          |\n",
      " 427  |  426  |  Jumlah Korban yang Meninggal Karena Perkelahian Massal  |          8105  |          KEPULAUAN ARU  |   2006  |            |         |           |      1  |          |\n",
      " 428  |  427  |  Jumlah Korban yang Meninggal Karena Perkelahian Massal  |          8106  |     SERAM BAGIAN BARAT  |   2006  |            |         |           |      2  |          |\n",
      " 429  |  428  |  Jumlah Korban yang Meninggal Karena Perkelahian Massal  |          8107  |     SERAM BAGIAN TIMUR  |   2006  |            |         |           |         |          |\n",
      " 430  |  429  |  Jumlah Korban yang Meninggal Karena Perkelahian Massal  |          8171  |             KOTA AMBON  |   2006  |            |         |           |      7  |          |\n",
      " ...  |  ...  |                                                     ...  |           ...  |                    ...  |    ...  |       ...  |    ...  |      ...  |    ...  |     ...  |\n",
      " 729  |  728  |  Jumlah Korban yang Meninggal Karena Perkelahian Massal  |       1204031  |                  TUKKA  |   2006  |            |         |           |         |          |\n",
      " 730  |  729  |  Jumlah Korban yang Meninggal Karena Perkelahian Massal  |       1204040  |           TAPIAN NAULI  |   2006  |            |         |           |      2  |          |\n",
      " 731  |  730  |  Jumlah Korban yang Meninggal Karena Perkelahian Massal  |       1204041  |               SITAHUIS  |   2006  |            |         |           |         |          |\n",
      " 732  |  731  |  Jumlah Korban yang Meninggal Karena Perkelahian Massal  |       1204050  |                 KOLANG  |   2006  |            |         |           |      5  |          |\n",
      " 733  |  732  |  Jumlah Korban yang Meninggal Karena Perkelahian Massal  |       1204060  |                 SORKAM  |   2006  |            |         |           |         |          |\n",
      " 734  |  733  |  Jumlah Korban yang Meninggal Karena Perkelahian Massal  |       1204061  |           SORKAM BARAT  |   2006  |            |         |           |         |          |\n",
      " 735  |  734  |  Jumlah Korban yang Meninggal Karena Perkelahian Massal  |       1204070  |                  BARUS  |   2006  |            |         |           |         |          |\n",
      " 736  |  735  |  Jumlah Korban yang Meninggal Karena Perkelahian Massal  |       1204071  |           SOSOR GADONG  |   2006  |            |         |           |     10  |          |\n",
      " 737  |  736  |  Jumlah Korban yang Meninggal Karena Perkelahian Massal  |       1204072  |             ANDAM DEWI  |   2006  |            |         |           |         |          |\n",
      " 738  |  737  |  Jumlah Korban yang Meninggal Karena Perkelahian Massal  |       1204080  |              MANDUAMAS  |   2006  |            |         |           |      4  |          |\n",
      "                                                                                       12181609.json                                                                                       \n",
      " kode_wilayah  |  tahun  |                          series                          |  nilai  |  _id  |           wilayah           |  tanggal  |  idx  |  bulan  |  triwulan  |  target  |\n",
      "-------------------------------------------------------------------------------------------------------------------------------------------------------------------------------------------\n",
      "            1  |   2006  |  Jumlah Korban yang Meninggal Karena Perkelahian Massal  |    276  |    1  |                  Indonesia  |           |    0  |         |            |          |\n",
      "           11  |   2006  |  Jumlah Korban yang Meninggal Karena Perkelahian Massal  |         |    2  |                       ACEH  |           |    1  |         |            |          |\n",
      "           12  |   2006  |  Jumlah Korban yang Meninggal Karena Perkelahian Massal  |     24  |    3  |             SUMATERA UTARA  |           |    2  |         |            |          |\n",
      "           13  |   2006  |  Jumlah Korban yang Meninggal Karena Perkelahian Massal  |      5  |    4  |             SUMATERA BARAT  |           |    3  |         |            |          |\n",
      "           14  |   2006  |  Jumlah Korban yang Meninggal Karena Perkelahian Massal  |      9  |    5  |                       RIAU  |           |    4  |         |            |          |\n",
      "           15  |   2006  |  Jumlah Korban yang Meninggal Karena Perkelahian Massal  |      3  |    6  |                      JAMBI  |           |    5  |         |            |          |\n",
      "           16  |   2006  |  Jumlah Korban yang Meninggal Karena Perkelahian Massal  |      5  |    7  |           SUMATERA SELATAN  |           |    6  |         |            |          |\n",
      "           17  |   2006  |  Jumlah Korban yang Meninggal Karena Perkelahian Massal  |      2  |    8  |                   BENGKULU  |           |    7  |         |            |          |\n",
      "           18  |   2006  |  Jumlah Korban yang Meninggal Karena Perkelahian Massal  |     11  |    9  |                    LAMPUNG  |           |    8  |         |            |          |\n",
      "           19  |   2006  |  Jumlah Korban yang Meninggal Karena Perkelahian Massal  |         |   10  |  KEPULAUAN BANGKA BELITUNG  |           |    9  |         |            |          |\n",
      "          ...  |    ...  |                                                     ...  |    ...  |  ...  |                        ...  |      ...  |  ...  |    ...  |       ...  |     ...  |\n",
      "         7404  |   2006  |  Jumlah Korban yang Meninggal Karena Perkelahian Massal  |      1  |  411  |                     KOLAKA  |           |  410  |         |            |          |\n",
      "         7405  |   2006  |  Jumlah Korban yang Meninggal Karena Perkelahian Massal  |         |  412  |             KONAWE SELATAN  |           |  411  |         |            |          |\n",
      "         7406  |   2006  |  Jumlah Korban yang Meninggal Karena Perkelahian Massal  |         |  413  |                    BOMBANA  |           |  412  |         |            |          |\n",
      "         7407  |   2006  |  Jumlah Korban yang Meninggal Karena Perkelahian Massal  |         |  414  |                   WAKATOBI  |           |  413  |         |            |          |\n",
      "         7408  |   2006  |  Jumlah Korban yang Meninggal Karena Perkelahian Massal  |      2  |  415  |               KOLAKA UTARA  |           |  414  |         |            |          |\n",
      "         7471  |   2006  |  Jumlah Korban yang Meninggal Karena Perkelahian Massal  |         |  416  |               KOTA KENDARI  |           |  415  |         |            |          |\n",
      "         7472  |   2006  |  Jumlah Korban yang Meninggal Karena Perkelahian Massal  |         |  417  |               KOTA BAU-BAU  |           |  416  |         |            |          |\n",
      "         7501  |   2006  |  Jumlah Korban yang Meninggal Karena Perkelahian Massal  |      1  |  418  |                    BOALEMO  |           |  417  |         |            |          |\n",
      "         7502  |   2006  |  Jumlah Korban yang Meninggal Karena Perkelahian Massal  |         |  419  |                  GORONTALO  |           |  418  |         |            |          |\n"
     ]
    },
    {
     "name": "stdout",
     "output_type": "stream",
     "text": [
      "         7503  |   2006  |  Jumlah Korban yang Meninggal Karena Perkelahian Massal  |         |  420  |                   POHUWATO  |           |  419  |         |            |          |\n",
      "                                                                                 12181609.csv                                                                                 \n",
      " _id  |  idx  |                          series                          |  kode_wilayah  |    wilayah     |  tahun  |  triwulan  |  bulan  |  tanggal  |  nilai  |  target  |\n",
      "------------------------------------------------------------------------------------------------------------------------------------------------------------------------------\n",
      " 416  |  415  |  Jumlah Korban yang Meninggal Karena Perkelahian Massal  |          7471  |  KOTA KENDARI  |   2006  |            |         |           |         |          |\n",
      " 417  |  416  |  Jumlah Korban yang Meninggal Karena Perkelahian Massal  |          7472  |  KOTA BAU-BAU  |   2006  |            |         |           |         |          |\n",
      " 418  |  417  |  Jumlah Korban yang Meninggal Karena Perkelahian Massal  |          7501  |       BOALEMO  |   2006  |            |         |           |      1  |          |\n",
      " 419  |  418  |  Jumlah Korban yang Meninggal Karena Perkelahian Massal  |          7502  |     GORONTALO  |   2006  |            |         |           |         |          |\n",
      " 420  |  419  |  Jumlah Korban yang Meninggal Karena Perkelahian Massal  |          7503  |      POHUWATO  |   2006  |            |         |           |         |          |\n",
      "                12181609.csv summary                \n",
      "   Mean [nilai]    |  Max [nilai]  |  Min [nilai]  |\n",
      "----------------------------------------------------\n",
      " 6.07106598984771  |          276  |            1  |"
     ]
    },
    {
     "data": {
      "text/plain": [
       "null"
      ]
     },
     "execution_count": 4,
     "metadata": {},
     "output_type": "execute_result"
    }
   ],
   "source": [
    "//point soal no. 1 & 2\n",
    "import tech.tablesaw.api.*;\n",
    "import tech.tablesaw.io.json.*;\n",
    "import static tech.tablesaw.aggregate.AggregateFunctions.*;\n",
    "// display Tablesaw tables with BeakerX table display widget\n",
    "tech.tablesaw.beakerx.TablesawDisplayer.register();\n",
    "\n",
    "//init objek\n",
    "Table  i12181609= Table.read().csv(\"datasets/12181609/12181609.csv\");\n",
    "//print dataset structure\n",
    "System.out.println(i12181609.structure());\n",
    "\n",
    "\n",
    " //Menampilkan semua data dari  frame Binatang\n",
    "\n",
    "System.out.println(i12181609.print());\n",
    "\n",
    "//Json//\n",
    "\n",
    "//init objek JsonReader \n",
    "JsonReader reader = new JsonReader();\n",
    "\n",
    "//membaca file product.json\n",
    "JsonReadOptions fileJSON = JsonReadOptions.builder(\"datasets/12181609/12181609.json\").build();\n",
    "\n",
    "//memasukan data fileJSON ke dataframe \n",
    "Table r12181609 = reader.read(fileJSON);\n",
    "\n",
    "//Menampilkan semua data dari  frame Binatang\n",
    "\n",
    "System.out.println(r12181609.print());\n",
    "\n",
    "// Menggabungkan//\n",
    "//menggabungkan data pada dataframedata1 dan dataframedata2 untuk disimpan di df datagabung\n",
    "Table datagabung = i12181609.append(r12181609);\n",
    "\n",
    "//menampilkan gabungan data yang ada di dataframe datagabung\n",
    "System.out.println(datagabung.last(5)); \n",
    "\n",
    "//menampilkan summary data yang ada di dataframe datagabung kolom \"grade\"\n",
    "System.out.print(datagabung.summarize(\"nilai\", mean, max, min).apply());"
   ]
  },
  {
   "cell_type": "code",
   "execution_count": null,
   "metadata": {},
   "outputs": [],
   "source": []
  }
 ],
 "metadata": {
  "kernelspec": {
   "display_name": "Java",
   "language": "java",
   "name": "java"
  },
  "language_info": {
   "codemirror_mode": "text/x-java",
   "file_extension": ".java",
   "mimetype": "",
   "name": "Java",
   "nbconverter_exporter": "",
   "version": "1.8.0_121"
  },
  "toc": {
   "base_numbering": 1,
   "nav_menu": {},
   "number_sections": false,
   "sideBar": false,
   "skip_h1_title": false,
   "title_cell": "Table of Contents",
   "title_sidebar": "Contents",
   "toc_cell": false,
   "toc_position": {},
   "toc_section_display": false,
   "toc_window_display": false
  }
 },
 "nbformat": 4,
 "nbformat_minor": 2
}
